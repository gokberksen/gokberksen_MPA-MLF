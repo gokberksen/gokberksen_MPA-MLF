{
  "cells": [
    {
      "cell_type": "markdown",
      "source": [
        "# SVM for classification"
      ],
      "metadata": {
        "id": "qpzybxGIwnuz"
      }
    },
    {
      "cell_type": "markdown",
      "source": [
        "Load IRIS dataset, check its contents:\n"
      ],
      "metadata": {
        "id": "eMcpNqv-uk-K"
      }
    },
    {
      "cell_type": "code",
      "execution_count": null,
      "metadata": {
        "colab": {
          "base_uri": "https://localhost:8080/"
        },
        "id": "0Pw3iTT7-brT",
        "outputId": "722caebd-f7d2-4f17-8056-51dfedcbb5f1"
      },
      "outputs": [
        {
          "output_type": "stream",
          "name": "stdout",
          "text": [
            "['sepal length (cm)', 'sepal width (cm)', 'petal length (cm)', 'petal width (cm)']\n",
            "[[5.1 3.5 1.4 0.2]\n",
            " [4.9 3.  1.4 0.2]\n",
            " [4.7 3.2 1.3 0.2]\n",
            " [4.6 3.1 1.5 0.2]\n",
            " [5.  3.6 1.4 0.2]]\n",
            "[0 0 0 0 0]\n"
          ]
        }
      ],
      "source": [
        "from sklearn.datasets import load_iris\n",
        "iris=load_iris()\n",
        "iris.feature_names\n",
        "print(iris.feature_names)\n",
        "print(iris.data[0:5,:])\n",
        "print(iris.target[0:5])\n",
        "#print(iris.data)"
      ]
    },
    {
      "cell_type": "markdown",
      "source": [
        "Split data into training and testing parts:"
      ],
      "metadata": {
        "id": "H5VBL_QBussh"
      }
    },
    {
      "cell_type": "code",
      "source": [
        "from sklearn.model_selection import train_test_split\n",
        "X=iris.data\n",
        "y=iris.target\n",
        "X_train, X_test, y_train, y_test = train_test_split(X,y,test_size=0.2)\n",
        "print(X_train.shape)\n",
        "print(X_test.shape)"
      ],
      "metadata": {
        "id": "rDk-PobDtp7b",
        "outputId": "f603c8ff-f91f-4666-a349-49966a1398db",
        "colab": {
          "base_uri": "https://localhost:8080/"
        }
      },
      "execution_count": null,
      "outputs": [
        {
          "output_type": "stream",
          "name": "stdout",
          "text": [
            "(120, 4)\n",
            "(30, 4)\n"
          ]
        }
      ]
    },
    {
      "cell_type": "markdown",
      "source": [
        "Use a Support Vector Machine for classification:\n"
      ],
      "metadata": {
        "id": "3hjR3_OOuzZO"
      }
    },
    {
      "cell_type": "code",
      "source": [
        "from sklearn.svm import SVC\n",
        "SVMmodel=SVC(kernel='linear')\n",
        "SVMmodel.fit(X_train,y_train)\n",
        "SVMmodel.get_params()\n",
        "SVMmodel.score(X_test,y_test)"
      ],
      "metadata": {
        "id": "XKbwK1yht2In",
        "outputId": "d626e2d7-3be7-4dd4-d37e-c60983d6c52f",
        "colab": {
          "base_uri": "https://localhost:8080/"
        }
      },
      "execution_count": null,
      "outputs": [
        {
          "output_type": "execute_result",
          "data": {
            "text/plain": [
              "0.9666666666666667"
            ]
          },
          "metadata": {},
          "execution_count": 16
        }
      ]
    },
    {
      "cell_type": "markdown",
      "source": [
        "Let's explore more now.\n",
        "\n",
        "*   Choose only first two features (columns) of iris.data\n",
        "*   SVM is in its basic form a 2-class classifier, so eliminate iris.target =2 from the data\n",
        "\n"
      ],
      "metadata": {
        "id": "XlCNzZsau7gg"
      }
    },
    {
      "cell_type": "code",
      "execution_count": null,
      "metadata": {
        "id": "nYdW9o1GhwFA"
      },
      "outputs": [],
      "source": [
        "# Select only the first two features (columns 0 and 1)\n",
        "X = iris.data[:, :2]\n",
        "\n",
        "# Remove class 2 from the dataset\n",
        "X = X[iris.target != 2]\n",
        "y = iris.target[iris.target != 2]"
      ]
    },
    {
      "cell_type": "markdown",
      "source": [
        "Plot scatterplots of targets 0 and 1 and check the separability of the classes:"
      ],
      "metadata": {
        "id": "Vx6fPm3KvlyH"
      }
    },
    {
      "cell_type": "code",
      "source": [
        "import matplotlib.pyplot as plt\n",
        "\n",
        "#plt.scatter(X[:,0],X[:,1])\n",
        "\n",
        "plt.scatter(X[y==0,0],X[y==0,1],color='blue')\n",
        "plt.scatter(X[y==1,0],X[y==1,1],color='red')\n",
        "plt.scatter(X[y==2,0],X[y==2,1],color='cyan')\n"
      ],
      "metadata": {
        "id": "flQWBul_ZYjK",
        "collapsed": true
      },
      "execution_count": null,
      "outputs": []
    },
    {
      "cell_type": "markdown",
      "source": [
        "Train and test the SVM classifier, play with regularization parameter C (either use the default value or try e.g. 200)"
      ],
      "metadata": {
        "id": "mu3qUUvHv1TP"
      }
    },
    {
      "cell_type": "code",
      "execution_count": null,
      "metadata": {
        "id": "HOo58lvZo_Lf",
        "colab": {
          "base_uri": "https://localhost:8080/"
        },
        "outputId": "fcaf4acb-5801-409c-8b1d-f1dfbb9fd092"
      },
      "outputs": [
        {
          "output_type": "stream",
          "name": "stdout",
          "text": [
            "(100, 2)\n"
          ]
        },
        {
          "output_type": "execute_result",
          "data": {
            "text/plain": [
              "1.0"
            ]
          },
          "metadata": {},
          "execution_count": 19
        }
      ],
      "source": [
        "X = iris.data[iris.target != 2, 0:2]\n",
        "print(X.shape)\n",
        "\n",
        "y = iris.target[iris.target != 2]\n",
        "\n",
        "SVMmodel_1 = SVC(kernel='linear', C=200)\n",
        "\n",
        "X_train_1, X_test_1, y_train_1, y_test_1 = train_test_split(X, y, test_size=0.2)\n",
        "\n",
        "SVMmodel_1.fit(X_train_1, y_train_1)\n",
        "\n",
        "#print(SVMmodel_1.get_params())\n",
        "\n",
        "SVMmodel_1.score(X_test_1, y_test_1)\n"
      ]
    },
    {
      "cell_type": "markdown",
      "source": [],
      "metadata": {
        "id": "vpOHSYlCwdED"
      }
    },
    {
      "cell_type": "markdown",
      "source": [
        "Show support vectors in the 2D plot, plot the decision line from equation [w0 w1]*[x0 x1] + b = 0:"
      ],
      "metadata": {
        "id": "MshE_3pPwceK"
      }
    },
    {
      "cell_type": "code",
      "execution_count": null,
      "metadata": {
        "id": "MkZj_qEMvHeY"
      },
      "outputs": [],
      "source": [
        "supvectors = SVMmodel_1.support_vectors_\n",
        "# Plot the support vectors here\n",
        "\n",
        "# Separating line coefficients:\n",
        "W = SVMmodel_1.coef_\n",
        "b = SVMmodel_1.intercept_\n",
        "\n",
        "print(W)\n",
        "print(b)\n",
        "\n",
        "import numpy as np\n",
        "\n",
        "x1 = np.linspace(np.min(X[:, 0]), np.max(X[:, 0]), 100)\n",
        "x2 = -b/W[0,1] - W[0,0]/W[0,1] * x1\n",
        "\n",
        "plt.scatter(X[y == 0, 0], X[y == 0, 1], color='blue')\n",
        "plt.scatter(X[y == 1, 0], X[y == 1, 1], color='red')\n",
        "plt.plot(x1, x2, color='black')\n"
      ]
    },
    {
      "cell_type": "markdown",
      "metadata": {
        "id": "TR9Kkzlrx6Pl"
      },
      "source": [
        "# Anomaly detection via SVM"
      ]
    },
    {
      "cell_type": "markdown",
      "source": [
        "Import one-class SVM and generate data (Gaussian blobs in 2D-plane):"
      ],
      "metadata": {
        "id": "D6e44AnXmxZi"
      }
    },
    {
      "cell_type": "code",
      "source": [
        "from sklearn.svm import OneClassSVM\n",
        "from sklearn.datasets import make_blobs\n",
        "from numpy import quantile, where, random\n",
        "\n",
        "random.seed(11)\n",
        "x, _ = make_blobs(n_samples=300, centers=1, cluster_std=.3, center_box=(4, 4))\n",
        "\n",
        "plt.scatter(x[:,0], x[:,1])\n",
        "plt.show()\n",
        "\n"
      ],
      "metadata": {
        "id": "kA9NeGTXm2Ry"
      },
      "execution_count": null,
      "outputs": []
    },
    {
      "cell_type": "markdown",
      "source": [
        "Train one-class SVM and plot the outliers (outputs of prediction being equal to -1)"
      ],
      "metadata": {
        "id": "HrWy_Y9Sw41V"
      }
    },
    {
      "cell_type": "code",
      "source": [
        "SVMmodelOne = OneClassSVM(kernel='rbf', gamma=0.001, nu=0.03)\n",
        "\n",
        "\n",
        "SVMmodelOne.fit(x)\n",
        "pred = SVMmodelOne.predict(x)\n",
        "anom_index = where(pred==-1)\n",
        "values = x[anom_index]\n",
        "\n",
        "plt.scatter(x[:,0], x[:,1])\n",
        "plt.scatter(values[:,0], values[:,1], color='red')\n",
        "plt.axis('equal')\n",
        "plt.show()\n",
        "\n"
      ],
      "metadata": {
        "id": "esEEn-KqoZic"
      },
      "execution_count": null,
      "outputs": []
    },
    {
      "cell_type": "markdown",
      "source": [
        "Plot the support vectors:"
      ],
      "metadata": {
        "id": "kIZmSPRGxNRK"
      }
    },
    {
      "cell_type": "code",
      "source": [
        "# Get support vectors\n",
        "support_vectors = SVMmodelOne.support_vectors_\n",
        "\n",
        "# Plot support vectors\n",
        "plt.scatter(support_vectors[:, 0], support_vectors[:, 1],\n",
        "            edgecolors='black', facecolors='none', s=100, label=\"Support Vectors\")\n"
      ],
      "metadata": {
        "id": "RJcyvEHKsR8T"
      },
      "execution_count": null,
      "outputs": []
    },
    {
      "cell_type": "markdown",
      "source": [
        "What if we want to have a control what is outlier? Use e.g. 5% \"quantile\" to mark the outliers. Every point with lower score than threshold will be an outlier."
      ],
      "metadata": {
        "id": "VbEUVj8RxS1p"
      }
    },
    {
      "cell_type": "code",
      "source": [
        "from numpy import quantile, where\n",
        "\n",
        "# Compute anomaly scores for each sample\n",
        "scores = SVMmodelOne.score_samples(x)\n",
        "\n",
        "# Set threshold at the 5% quantile (adjustable)\n",
        "thresh = quantile(scores, 0.05)  # Now using 5% instead of 8%\n",
        "print(\"Threshold:\", thresh)\n",
        "\n",
        "# Identify points below the threshold as outliers\n",
        "index = where(scores <= thresh)\n",
        "values = x[index]  # Extract the outlier points\n",
        "\n",
        "# Plot data points\n",
        "plt.scatter(x[:, 0], x[:, 1], label=\"Normal Data\")\n",
        "\n",
        "# Plot outliers (red)\n",
        "plt.scatter(values[:, 0], values[:, 1], color='red', label=\"Outliers\", marker='x')\n",
        "\n",
        "# Plot support vectors (optional)\n",
        "plt.scatter(SVMmodelOne.support_vectors_[:, 0], SVMmodelOne.support_vectors_[:, 1],\n",
        "            edgecolors='black', facecolors='none', s=100, label=\"Support Vectors\")\n",
        "\n",
        "# Formatting\n",
        "plt.axis('equal')\n",
        "plt.legend()\n",
        "plt.title(\"One-Class SVM with 5% Quantile Outliers\")\n",
        "plt.show()\n"
      ],
      "metadata": {
        "id": "DQzxxUePs6sN"
      },
      "execution_count": null,
      "outputs": []
    }
  ],
  "metadata": {
    "colab": {
      "provenance": [],
      "toc_visible": true
    },
    "kernelspec": {
      "display_name": "Python 3",
      "name": "python3"
    },
    "language_info": {
      "name": "python"
    }
  },
  "nbformat": 4,
  "nbformat_minor": 0
}